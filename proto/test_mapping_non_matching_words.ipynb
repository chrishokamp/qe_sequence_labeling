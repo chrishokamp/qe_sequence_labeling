{
 "cells": [
  {
   "cell_type": "code",
   "execution_count": 1,
   "metadata": {
    "collapsed": false
   },
   "outputs": [],
   "source": [
    "import json\n",
    "import codecs\n",
    "\n",
    "from sequence_qe.evaluation import non_matching_words_are_bad, reduce_to_binary_labels\n",
    "\n",
    "import numpy as np\n",
    "from sklearn.metrics import f1_score"
   ]
  },
  {
   "cell_type": "code",
   "execution_count": 2,
   "metadata": {
    "collapsed": true
   },
   "outputs": [],
   "source": [
    "json_dev_log = '/home/chris/Desktop/Dropbox/data/qe/experiments/sample_json_logs/dev_6500.out'"
   ]
  },
  {
   "cell_type": "code",
   "execution_count": 3,
   "metadata": {
    "collapsed": false
   },
   "outputs": [],
   "source": [
    "dev_results = json.loads(codecs.open(json_dev_log, encoding='utf8').read())\n",
    "dev_preds = [result['pred'].split() for result in dev_results]\n",
    "dev_mt = [result['mt'].split() for result in dev_results]\n",
    "dev_true = [result['output'].split() for result in dev_results]"
   ]
  },
  {
   "cell_type": "code",
   "execution_count": 4,
   "metadata": {
    "collapsed": false
   },
   "outputs": [],
   "source": [
    "no_eos_preds = []\n",
    "no_eos_mt = []\n",
    "no_eos_true = []\n",
    "\n",
    "global_eos_token = u'</S>'\n",
    "for p, m, t in zip(dev_preds, dev_mt, dev_true):\n",
    "    if global_eos_token in m:\n",
    "        eos_idx = m.index(global_eos_token)\n",
    "        p = p[:eos_idx]\n",
    "        m = m[:eos_idx]\n",
    "        t = t[:eos_idx]\n",
    "    no_eos_preds.append(p)\n",
    "    no_eos_mt.append(m)\n",
    "    no_eos_true.append(t)\n",
    "dev_preds = no_eos_preds\n",
    "dev_mt = no_eos_mt\n",
    "dev_true = no_eos_true\n",
    "    "
   ]
  },
  {
   "cell_type": "code",
   "execution_count": 5,
   "metadata": {
    "collapsed": true
   },
   "outputs": [],
   "source": [
    "def accuracy(preds, truth, eos_token=u'</S>'):\n",
    "    correct = 0\n",
    "    total = 0 \n",
    "    for p, t in zip(preds, truth):\n",
    "        assert len(p) == len(t)\n",
    "        if eos_token in t:\n",
    "            eos_idx = t.index(eos_token)\n",
    "            p = p[:eos_idx]\n",
    "            t = t[:eos_idx]\n",
    "            \n",
    "        correct += sum([1 for p_w, t_w in zip(p, t) if p_w==t_w])\n",
    "        total += len(p)\n",
    "    return float(correct) / float(total)\n",
    "\n"
   ]
  },
  {
   "cell_type": "code",
   "execution_count": 6,
   "metadata": {
    "collapsed": false
   },
   "outputs": [
    {
     "data": {
      "text/plain": [
       "0.6730038022813688"
      ]
     },
     "execution_count": 6,
     "metadata": {},
     "output_type": "execute_result"
    }
   ],
   "source": [
    "accuracy(dev_preds, dev_true)"
   ]
  },
  {
   "cell_type": "code",
   "execution_count": 7,
   "metadata": {
    "collapsed": true
   },
   "outputs": [],
   "source": [
    "mapped_preds = non_matching_words_are_bad(dev_mt, dev_preds)"
   ]
  },
  {
   "cell_type": "code",
   "execution_count": 8,
   "metadata": {
    "collapsed": false
   },
   "outputs": [
    {
     "data": {
      "text/plain": [
       "0.6869455006337135"
      ]
     },
     "execution_count": 8,
     "metadata": {},
     "output_type": "execute_result"
    }
   ],
   "source": [
    "accuracy(mapped_preds, dev_true)"
   ]
  },
  {
   "cell_type": "code",
   "execution_count": 9,
   "metadata": {
    "collapsed": true
   },
   "outputs": [],
   "source": [
    "reduced_preds = reduce_to_binary_labels(mapped_preds)\n",
    "reduced_true = reduce_to_binary_labels(dev_true)"
   ]
  },
  {
   "cell_type": "code",
   "execution_count": 10,
   "metadata": {
    "collapsed": false
   },
   "outputs": [
    {
     "data": {
      "text/plain": [
       "0.6869455006337135"
      ]
     },
     "execution_count": 10,
     "metadata": {},
     "output_type": "execute_result"
    }
   ],
   "source": [
    "accuracy(reduced_preds, reduced_true)"
   ]
  },
  {
   "cell_type": "code",
   "execution_count": 11,
   "metadata": {
    "collapsed": true
   },
   "outputs": [],
   "source": [
    "tag_map = {u'OK': 0, u'BAD': 1}\n",
    "flat_preds = [tag_map[w] for s in reduced_preds for w in s]\n",
    "flat_true = [tag_map[w] for s in reduced_true for w in s]"
   ]
  },
  {
   "cell_type": "code",
   "execution_count": 12,
   "metadata": {
    "collapsed": false
   },
   "outputs": [
    {
     "data": {
      "text/plain": [
       "array([ 0.79226241,  0.36503856])"
      ]
     },
     "execution_count": 12,
     "metadata": {},
     "output_type": "execute_result"
    }
   ],
   "source": [
    "f1_scores = f1_score(flat_true, flat_preds, average=None)\n",
    "f1_scores"
   ]
  },
  {
   "cell_type": "code",
   "execution_count": 13,
   "metadata": {
    "collapsed": false
   },
   "outputs": [
    {
     "data": {
      "text/plain": [
       "0.28920632792889395"
      ]
     },
     "execution_count": 13,
     "metadata": {},
     "output_type": "execute_result"
    }
   ],
   "source": [
    "f1_product = np.product(f1_scores)\n",
    "f1_product"
   ]
  },
  {
   "cell_type": "code",
   "execution_count": null,
   "metadata": {
    "collapsed": true
   },
   "outputs": [],
   "source": []
  }
 ],
 "metadata": {
  "kernelspec": {
   "display_name": "Python 2",
   "language": "python",
   "name": "python2"
  },
  "language_info": {
   "codemirror_mode": {
    "name": "ipython",
    "version": 2
   },
   "file_extension": ".py",
   "mimetype": "text/x-python",
   "name": "python",
   "nbconvert_exporter": "python",
   "pygments_lexer": "ipython2",
   "version": "2.7.12"
  }
 },
 "nbformat": 4,
 "nbformat_minor": 0
}
